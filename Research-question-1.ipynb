{
 "cells": [
  {
   "cell_type": "markdown",
   "id": "d4909bef-af3b-4011-8019-1764223ad4db",
   "metadata": {},
   "source": [
    "# Research question 1\n",
    "\n",
    "- Embed each user story in user story dataset(persist in a datastore to avoid recomputation to avoid cost for commercial llm embedders)\n",
    "- Cluster to get optimal k\n",
    "\n",
    "__Questions I am wrestling with__\n",
    "- How to get optimal cluster size k for each `user stories dataset`.\n",
    "- How to embed the user stories with several embedding models.\n",
    "\n",
    "__Methodology__\n",
    "1. Dataset to be used is `data/g12-camperplus.txt`(__55 user stories__).\n",
    "2. Preprocess by doing tokenization, lemmatization and removing stop words\n",
    "3. Embed using any LLM embedding store in a vector database\n",
    "4. Use K-means algorithm(by varying cluster between 2 and square root of n)\n",
    "5. Evaluate using SC an CH index"
   ]
  },
  {
   "cell_type": "markdown",
   "id": "6fbb9f07-9866-4e25-aee0-a3a8e961d5a9",
   "metadata": {},
   "source": [
    "#### Check number of user stories"
   ]
  },
  {
   "cell_type": "code",
   "execution_count": 1,
   "id": "e35e0da3-4857-42f0-9713-2954fb54e743",
   "metadata": {},
   "outputs": [],
   "source": [
    "SUPABASE_PROJECT_NAME = \"g12-camperplus\""
   ]
  },
  {
   "cell_type": "code",
   "execution_count": 2,
   "id": "b13ac743-24ec-41b4-8f12-c4f6e1fc11c8",
   "metadata": {},
   "outputs": [],
   "source": [
    "FILE_PATH = f\"data/{SUPABASE_PROJECT_NAME}.txt\""
   ]
  },
  {
   "cell_type": "code",
   "execution_count": 3,
   "id": "6eefb0f0-9eca-48bb-83f8-7bba26a279b6",
   "metadata": {},
   "outputs": [
    {
     "name": "stdout",
     "output_type": "stream",
     "text": [
      "There are 55 stories in a data/g12-camperplus.txt\n"
     ]
    }
   ],
   "source": [
    "number_of_user_stories = 0\n",
    "with open(FILE_PATH) as file:\n",
    "    for line in file:\n",
    "        number_of_user_stories += 1\n",
    "\n",
    "print(f\"There are {number_of_user_stories} stories in a {FILE_PATH}\")"
   ]
  },
  {
   "cell_type": "markdown",
   "id": "db7b183e-695e-4823-9f9a-d25e6623a5d5",
   "metadata": {},
   "source": [
    "#### Install packages needed for embedding user stories"
   ]
  },
  {
   "cell_type": "code",
   "execution_count": 4,
   "id": "f31c2e5b-b5f5-46d6-b300-79981ba000e1",
   "metadata": {},
   "outputs": [],
   "source": [
    "#!pip install ollama langchain langchain_community"
   ]
  },
  {
   "cell_type": "code",
   "execution_count": 5,
   "id": "628083ae-a9bd-446b-9f33-880c76c53ae2",
   "metadata": {},
   "outputs": [],
   "source": [
    "# !ollama pull llama3\n",
    "# !ollama pull phi3\n",
    "# !ollama pull mistral"
   ]
  },
  {
   "cell_type": "markdown",
   "id": "c1cdbb3b-a7bb-4296-a2f1-f31acb74b8b7",
   "metadata": {},
   "source": [
    "Llama3, Phi-3 and Mistral take 20.25s, 9s, 12s for embedding a single query respectively. This means the higher the size of the model, the slower the embedding process"
   ]
  },
  {
   "cell_type": "markdown",
   "id": "4bf3832b-7aa7-439c-aa81-d6afec020354",
   "metadata": {},
   "source": [
    "__Install packages for performing data preprocessing and storing embeddings__|"
   ]
  },
  {
   "cell_type": "code",
   "execution_count": 6,
   "id": "dee3fdf5-2370-45d3-8de3-d435f7cf54d3",
   "metadata": {},
   "outputs": [],
   "source": [
    "#!pip install nltk supabase"
   ]
  },
  {
   "cell_type": "code",
   "execution_count": 7,
   "id": "3190ce83-d525-4f62-9178-579c2b344242",
   "metadata": {},
   "outputs": [
    {
     "name": "stderr",
     "output_type": "stream",
     "text": [
      "[nltk_data] Downloading package punkt to\n",
      "[nltk_data]     C:\\Users\\abdul\\AppData\\Roaming\\nltk_data...\n",
      "[nltk_data]   Package punkt is already up-to-date!\n",
      "[nltk_data] Downloading package wordnet to\n",
      "[nltk_data]     C:\\Users\\abdul\\AppData\\Roaming\\nltk_data...\n",
      "[nltk_data]   Package wordnet is already up-to-date!\n",
      "[nltk_data] Downloading package stopwords to\n",
      "[nltk_data]     C:\\Users\\abdul\\AppData\\Roaming\\nltk_data...\n",
      "[nltk_data]   Package stopwords is already up-to-date!\n"
     ]
    },
    {
     "data": {
      "text/plain": [
       "True"
      ]
     },
     "execution_count": 7,
     "metadata": {},
     "output_type": "execute_result"
    }
   ],
   "source": [
    "import nltk\n",
    "from nltk.tokenize import word_tokenize\n",
    "from nltk.stem import WordNetLemmatizer\n",
    "from nltk.corpus import stopwords\n",
    "import supabase \n",
    "\n",
    "nltk.download('punkt')\n",
    "nltk.download('wordnet')\n",
    "nltk.download('stopwords')"
   ]
  },
  {
   "cell_type": "code",
   "execution_count": 8,
   "id": "9a814b20-aa45-4860-9366-17d753cfe3fb",
   "metadata": {},
   "outputs": [],
   "source": [
    "from langchain_community.embeddings import OllamaEmbeddings\n",
    "\n",
    "# Load stop words and lemmatizer\n",
    "stop_words = set(stopwords.words('english'))\n",
    "lemmatizer = WordNetLemmatizer()\n",
    "\n",
    "# Load LLM models\n",
    "llama_model = OllamaEmbeddings(model=\"llama3\")\n",
    "mistral_model = OllamaEmbeddings(model=\"mistral\")\n",
    "phi3_model = OllamaEmbeddings(model=\"phi3\")"
   ]
  },
  {
   "cell_type": "code",
   "execution_count": 9,
   "id": "af588823-b03b-4235-a444-f746caee93a9",
   "metadata": {},
   "outputs": [],
   "source": [
    "# Load user story data\n",
    "# Connect to supabase vector store\n",
    "# Proprocess each user story, embed and store in the database"
   ]
  },
  {
   "cell_type": "markdown",
   "id": "91bbfd02-a1e7-4e5c-b853-49821b023d3a",
   "metadata": {},
   "source": [
    "### Load user story data"
   ]
  },
  {
   "cell_type": "code",
   "execution_count": 10,
   "id": "ede1afb1-d432-4824-8e1b-35e12e209d01",
   "metadata": {},
   "outputs": [],
   "source": [
    "with open(FILE_PATH, 'r') as file:\n",
    "    user_stories = file.readlines()"
   ]
  },
  {
   "cell_type": "markdown",
   "id": "cd19d962-ef3c-471d-8e79-f372d3ce1650",
   "metadata": {},
   "source": [
    "### Connect to supabase"
   ]
  },
  {
   "cell_type": "code",
   "execution_count": 11,
   "id": "16029ade-807d-4463-b75c-0133c46b655f",
   "metadata": {},
   "outputs": [],
   "source": [
    "#!pip install python-dotenv"
   ]
  },
  {
   "cell_type": "code",
   "execution_count": 12,
   "id": "7ea1ef17-5737-4834-90aa-aa303d8d67b8",
   "metadata": {},
   "outputs": [],
   "source": [
    "from dotenv import dotenv_values\n",
    "# Load environment variables from .env file\n",
    "env_variables = dotenv_values(\".env\")"
   ]
  },
  {
   "cell_type": "code",
   "execution_count": 13,
   "id": "65424a8d-0102-4c24-86e8-51056334e6ec",
   "metadata": {},
   "outputs": [],
   "source": [
    "import os\n",
    "from supabase import create_client, Client\n",
    "\n",
    "url: str = env_variables.get(\"SUPABASE_URL\")\n",
    "key: str = env_variables.get(\"SUPABASE_KEY\")\n",
    "supabase_client: Client = create_client(url, key)"
   ]
  },
  {
   "cell_type": "markdown",
   "id": "b61e3eb6-7bb0-439a-9d6e-b3ad2215692d",
   "metadata": {},
   "source": [
    "### Creating necessary functions for embedding user stories and storing them in supabase vector store"
   ]
  },
  {
   "cell_type": "code",
   "execution_count": 14,
   "id": "1428f5bb-11e4-4ae0-ad8b-10ea3b58ca2d",
   "metadata": {},
   "outputs": [],
   "source": [
    "def preprocess_story(story):\n",
    "    \n",
    "    \"\"\"\n",
    "    Preprocesses a user story by tokenizing, lemmatizing, and removing stop words.\n",
    "    \"\"\"\n",
    "    tokens = word_tokenize(story.lower().strip())\n",
    "    filtered_tokens = [lemmatizer.lemmatize(token) for token in tokens if token not in stop_words]\n",
    "    return \" \".join(filtered_tokens)\n",
    "\n",
    "def get_embeddings(story):\n",
    "    \"\"\"\n",
    "    Generates embeddings for a user story using LLAMA, Mistral, and Phi-3 models.\n",
    "    \"\"\"\n",
    "    preprocessed_story = preprocess_story(story)\n",
    "    llama_embedding = llama_model.embed_query(preprocessed_story)\n",
    "    mistral_embedding = mistral_model.embed_query(preprocessed_story)\n",
    "    phi3_embedding = phi3_model.embed_query(preprocessed_story)\n",
    "    return {\n",
    "        \"llama_embedding\": llama_embedding,\n",
    "        \"mistral_embedding\": mistral_embedding,\n",
    "        \"phi3_embedding\": phi3_embedding\n",
    "    }\n",
    "\n",
    "def store_data(index, story, embeddings):\n",
    "    \"\"\"\n",
    "    Stores the preprocessed user story and embeddings in a Supabase vector database.\n",
    "    \"\"\"\n",
    "    inserted_data = {\n",
    "        \"user_story_id\": f\"US-{index}\",\n",
    "        \"story\": story,\n",
    "        \"llama_embedding\": embeddings[\"llama_embedding\"],\n",
    "        \"mistral_embedding\": embeddings[\"mistral_embedding\"],\n",
    "        \"phi3_embedding\": embeddings[\"phi3_embedding\"]\n",
    "    }\n",
    "    \n",
    "    # Try and rename the name of table below to the user stories\n",
    "    supabase_client.table(SUPABASE_PROJECT_NAME).insert(inserted_data).execute()"
   ]
  },
  {
   "cell_type": "markdown",
   "id": "314b63d8-a63e-44e0-9281-ef632b71fb56",
   "metadata": {},
   "source": [
    "### Preprocess, embed and store data and respective embeddings in supabase"
   ]
  },
  {
   "cell_type": "code",
   "execution_count": 15,
   "id": "8e2650d3-8300-4084-93e1-59ef9141c039",
   "metadata": {},
   "outputs": [
    {
     "name": "stdout",
     "output_type": "stream",
     "text": [
      "Preprocessed story: ï » ¿as camp administrator want able add camper keep track individual camper 0\n",
      "Done performing embedding 0\n",
      "Done with US-0\n",
      "Preprocessed story: camp administrator want able remove camper n't attend camp anymore keep record organized 1\n",
      "Done performing embedding 1\n",
      "Done with US-1\n",
      "Preprocessed story: camp administrator want able keep camper record previous year amount work need lowered 2\n",
      "Done performing embedding 2\n",
      "Done with US-2\n",
      "Preprocessed story: camp administrator want able upload consent form camper parent easily access form 3\n",
      "Done performing embedding 3\n",
      "Done with US-3\n",
      "Preprocessed story: camp administrator want able keep track camper submitted form legal issue avoided 4\n",
      "Done performing embedding 4\n",
      "Done with US-4\n",
      "Preprocessed story: camp administrator want able schedule activity camper camp worker easily keep track time 5\n",
      "Done performing embedding 5\n",
      "Done with US-5\n",
      "Preprocessed story: camp administrator want able suspend camper behavioral problem 6\n",
      "Done performing embedding 6\n",
      "Done with US-6\n",
      "Preprocessed story: camp administrator want able create group add camper group easily organize camper 7\n",
      "Done performing embedding 7\n",
      "Done with US-7\n",
      "Preprocessed story: camp administrator want able delete camper database keep page free clutter 8\n",
      "Done performing embedding 8\n",
      "Done with US-8\n",
      "Preprocessed story: camp worker want able see camper charge make sure job properly 9\n",
      "Done performing embedding 9\n",
      "Done with US-9\n",
      "Preprocessed story: camp worker 'm able report camper manager inappropriate behavior 10\n",
      "Done performing embedding 10\n",
      "Done with US-10\n",
      "Preprocessed story: camp worker want able see camper charge make sure job properly 11\n",
      "Done performing embedding 11\n",
      "Done with US-11\n",
      "Preprocessed story: camp administrator want able set reminder related specific task done 12\n",
      "Done performing embedding 12\n",
      "Done with US-12\n",
      "Preprocessed story: camp administrator want able assign different position staff member possible organize activity term responsibility 13\n",
      "Done performing embedding 13\n",
      "Done with US-13\n",
      "Preprocessed story: camp administrator want able warn camp worker think job inappropriate 14\n",
      "Done performing embedding 14\n",
      "Done with US-14\n",
      "Preprocessed story: camp administrator want able create modify rule camper camp worker follow 15\n",
      "Done performing embedding 15\n",
      "Done with US-15\n",
      "Preprocessed story: camp administrator want keep track usage internal camp facility n't create conflicting schedule different camp group 16\n",
      "Done performing embedding 16\n",
      "Done with US-16\n",
      "Preprocessed story: camp administrator want store camper ' emergency information database easily notify necessary party case emergency 17\n",
      "Done performing embedding 17\n",
      "Done with US-17\n",
      "Preprocessed story: camp administrator want store camper 's immediate parent guardian 's information easily call notify case grossly unacceptable behavior 18\n",
      "Done performing embedding 18\n",
      "Done with US-18\n",
      "Preprocessed story: camp administrator want able keep information one place admins next year improve previous year 19\n",
      "Done performing embedding 19\n",
      "Done with US-19\n",
      "Preprocessed story: camp administrator want able modify information enrolled camper keep camper information date 20\n",
      "Done performing embedding 20\n",
      "Done with US-20\n",
      "Preprocessed story: camp administrator want able modify information added parent keep parent 's information date 21\n",
      "Done performing embedding 21\n",
      "Done with US-21\n",
      "Preprocessed story: camp administrator want able modify group 's information keep group date 22\n",
      "Done performing embedding 22\n",
      "Done with US-22\n",
      "Preprocessed story: camp administrator want provide bi-weekly feedback camper 's parent aware child 's behavior performance camp 23\n",
      "Done performing embedding 23\n",
      "Done with US-23\n",
      "Preprocessed story: camp administrator want create avenue parent submit feedback general concern keep improving service provide 24\n",
      "Done performing embedding 24\n",
      "Done with US-24\n",
      "Preprocessed story: camp administrator want able make nametags faster n't spend two hour making 200+ nametags 25\n",
      "Done performing embedding 25\n",
      "Done with US-25\n",
      "Preprocessed story: camp administrator want able automatically create nametags camper lower amount work need 26\n",
      "Done performing embedding 26\n",
      "Done with US-26\n",
      "Preprocessed story: camp administrator want able create registration form staff kid keep organized 27\n",
      "Done performing embedding 27\n",
      "Done with US-27\n",
      "Preprocessed story: parent want able connect staff case emergency 28\n",
      "Done performing embedding 28\n",
      "Done with US-28\n",
      "Preprocessed story: camp administrator want able notify parent notified upcoming event 29\n",
      "Done performing embedding 29\n",
      "Done with US-29\n",
      "Preprocessed story: camp administrator want able add parent enroll kid camp 30\n",
      "Done performing embedding 30\n",
      "Done with US-30\n",
      "Preprocessed story: camp administrator want able delete parent database keep page free unneeded clutter 31\n",
      "Done performing embedding 31\n",
      "Done with US-31\n",
      "Preprocessed story: camp administrator want able see camp group event scheduled camp group notify counselor group day 32\n",
      "Done performing embedding 32\n",
      "Done with US-32\n",
      "Preprocessed story: camp administrator want able see event specific group group event calendar easily read data calendar without much clutter 33\n",
      "Done performing embedding 33\n",
      "Done with US-33\n",
      "Preprocessed story: camp administrator want able delete task activity scheduled keep schedule clean unneeded activity 34\n",
      "Done performing embedding 34\n",
      "Done with US-34\n",
      "Preprocessed story: camp administrator want able modify task event scheduled case change always keep schedule date 35\n",
      "Done performing embedding 35\n",
      "Done with US-35\n",
      "Preprocessed story: camp administrator want able schedule task activity specific camp group track group daily weekly monthly activity 36\n",
      "Done performing embedding 36\n",
      "Done with US-36\n",
      "Preprocessed story: camp administrator want able see medical form prepared allergy attack 37\n",
      "Done performing embedding 37\n",
      "Done with US-37\n",
      "Preprocessed story: parent want able see consent form submitted know still need 38\n",
      "Done performing embedding 38\n",
      "Done with US-38\n",
      "Preprocessed story: parent want able submit various type form camp management 39\n",
      "Done performing embedding 39\n",
      "Done with US-39\n",
      "Preprocessed story: parent want able sign submit consent form online n't deal child losing consent form 40\n",
      "Done performing embedding 40\n",
      "Done with US-40\n",
      "Preprocessed story: parent want able create account sign kid camp online 41\n",
      "Done performing embedding 41\n",
      "Done with US-41\n",
      "Preprocessed story: parent want see counselor assigned kid peace mind 42\n",
      "Done performing embedding 42\n",
      "Done with US-42\n",
      "Preprocessed story: parent want able message child 's counselor voice concern check child 's progress 43\n",
      "Done performing embedding 43\n",
      "Done with US-43\n",
      "Preprocessed story: parent want able see made necessary payment 44\n",
      "Done performing embedding 44\n",
      "Done with US-44\n",
      "Preprocessed story: parent want able share photo camp taken child 45\n",
      "Done performing embedding 45\n",
      "Done with US-45\n",
      "Preprocessed story: parent want able track child 's activity schedule camp peace mind 46\n",
      "Done performing embedding 46\n",
      "Done with US-46\n",
      "Preprocessed story: parent want able enroll child admitted camp 47\n",
      "Done performing embedding 47\n",
      "Done with US-47\n",
      "Preprocessed story: parent want able see edit enrolled child camp year know already enrolled camp still pending admission etc 48\n",
      "Done performing embedding 48\n",
      "Done with US-48\n",
      "Preprocessed story: parent want able see schedule activity child involved camp informed camp 49\n",
      "Done performing embedding 49\n",
      "Done with US-49\n",
      "Preprocessed story: camp worker would able submit completion report task assigned 50\n",
      "Done performing embedding 50\n",
      "Done with US-50\n",
      "Preprocessed story: camp worker 'm able report list supply manager camp short 51\n",
      "Done performing embedding 51\n",
      "Done with US-51\n",
      "Preprocessed story: camp worker 'm able report necessary repair manager camp needed 52\n",
      "Done performing embedding 52\n",
      "Done with US-52\n",
      "Preprocessed story: camp administrator want quickly log attendance everyday track kid coming 53\n",
      "Done performing embedding 53\n",
      "Done with US-53\n",
      "Preprocessed story: camp counselor want able take attendance assigned kid make ensure everybody accounted 54\n",
      "Done performing embedding 54\n",
      "Done with US-54\n",
      "Elapsed time: 2330.932540655136 seconds\n"
     ]
    }
   ],
   "source": [
    "import time\n",
    "\n",
    "start_time = time.time()\n",
    "for index, story in enumerate(user_stories):\n",
    "    preprocessed_story = preprocess_story(story)\n",
    "    print(f\"Preprocessed story: {preprocessed_story} {index}\")\n",
    "    embeddings = get_embeddings(preprocessed_story)\n",
    "    print(f\"Done performing embedding {index}\")\n",
    "    store_data(index, preprocessed_story, embeddings)\n",
    "    print(f\"Done with US-{index}\")\n",
    "end_time = time.time()\n",
    "elapsed_time = end_time - start_time\n",
    "\n",
    "print(f\"Elapsed time: {elapsed_time} seconds\")"
   ]
  },
  {
   "cell_type": "markdown",
   "id": "5b6b25c4-b852-43cb-9cc0-d0cbab7f1b11",
   "metadata": {},
   "source": [
    "__The embedding of the 55 user stories and storing in a database took about 39mins__"
   ]
  },
  {
   "cell_type": "code",
   "execution_count": null,
   "id": "c7967fd2-5f0a-4f20-b686-7947e708c589",
   "metadata": {},
   "outputs": [],
   "source": []
  }
 ],
 "metadata": {
  "kernelspec": {
   "display_name": "Python 3 (ipykernel)",
   "language": "python",
   "name": "python3"
  },
  "language_info": {
   "codemirror_mode": {
    "name": "ipython",
    "version": 3
   },
   "file_extension": ".py",
   "mimetype": "text/x-python",
   "name": "python",
   "nbconvert_exporter": "python",
   "pygments_lexer": "ipython3",
   "version": "3.11.7"
  }
 },
 "nbformat": 4,
 "nbformat_minor": 5
}
