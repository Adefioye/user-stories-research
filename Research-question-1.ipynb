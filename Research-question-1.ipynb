{
 "cells": [
  {
   "cell_type": "markdown",
   "id": "d4909bef-af3b-4011-8019-1764223ad4db",
   "metadata": {},
   "source": [
    "# Research question 1\n",
    "\n",
    "- Embed each user story in user story dataset(persist in a datastore to avoid recomputation to avoid cost for commercial llm embedders)\n",
    "- Cluster to get optimal k\n",
    "\n",
    "__Questions I am wrestling with__\n",
    "- How to get optimal cluster size k for each `user stories dataset`.\n",
    "- How to embed the user stories with several embedding models.\n",
    "\n",
    "__Methodology__\n",
    "1. Dataset to be used is `data/g12-camperplus.txt`(__55 user stories__).\n",
    "2. Preprocess by doing tokenization, lemmatization and removing stop words\n",
    "3. Embed using any LLM embedding and TFIDF store in a vector database\n",
    "4. Use K-means algorithm(by varying cluster between 2 and square root of n)\n",
    "5. Evaluate using SC an CH index"
   ]
  },
  {
   "cell_type": "markdown",
   "id": "6fbb9f07-9866-4e25-aee0-a3a8e961d5a9",
   "metadata": {},
   "source": [
    "#### Check number of user stories"
   ]
  },
  {
   "cell_type": "code",
   "execution_count": 13,
   "id": "e35e0da3-4857-42f0-9713-2954fb54e743",
   "metadata": {},
   "outputs": [],
   "source": [
    "SUPABASE_PROJECT_NAME = \"g12-camperplus\""
   ]
  },
  {
   "cell_type": "code",
   "execution_count": 14,
   "id": "b13ac743-24ec-41b4-8f12-c4f6e1fc11c8",
   "metadata": {},
   "outputs": [],
   "source": [
    "FILE_PATH = f\"data/{SUPABASE_PROJECT_NAME}.txt\""
   ]
  },
  {
   "cell_type": "code",
   "execution_count": 15,
   "id": "6eefb0f0-9eca-48bb-83f8-7bba26a279b6",
   "metadata": {},
   "outputs": [
    {
     "name": "stdout",
     "output_type": "stream",
     "text": [
      "There are 55 stories in a data/g12-camperplus.txt\n"
     ]
    }
   ],
   "source": [
    "number_of_user_stories = 0\n",
    "with open(FILE_PATH) as file:\n",
    "    for line in file:\n",
    "        number_of_user_stories += 1\n",
    "\n",
    "print(f\"There are {number_of_user_stories} stories in a {FILE_PATH}\")"
   ]
  },
  {
   "cell_type": "markdown",
   "id": "db7b183e-695e-4823-9f9a-d25e6623a5d5",
   "metadata": {},
   "source": [
    "#### Install packages needed for embedding user stories"
   ]
  },
  {
   "cell_type": "code",
   "execution_count": 16,
   "id": "f31c2e5b-b5f5-46d6-b300-79981ba000e1",
   "metadata": {},
   "outputs": [],
   "source": [
    "#!pip install ollama langchain langchain_community"
   ]
  },
  {
   "cell_type": "code",
   "execution_count": 17,
   "id": "628083ae-a9bd-446b-9f33-880c76c53ae2",
   "metadata": {},
   "outputs": [],
   "source": [
    "# !ollama pull llama3\n",
    "# !ollama pull phi3\n",
    "# !ollama pull mistral"
   ]
  },
  {
   "cell_type": "markdown",
   "id": "c1cdbb3b-a7bb-4296-a2f1-f31acb74b8b7",
   "metadata": {},
   "source": [
    "Llama3, Phi-3 and Mistral take 20.25s, 9s, 12s for embedding a single query respectively. This means the higher the size of the model, the slower the embedding process"
   ]
  },
  {
   "cell_type": "markdown",
   "id": "4bf3832b-7aa7-439c-aa81-d6afec020354",
   "metadata": {},
   "source": [
    "__Install packages for performing data preprocessing and storing embeddings__|"
   ]
  },
  {
   "cell_type": "code",
   "execution_count": 18,
   "id": "dee3fdf5-2370-45d3-8de3-d435f7cf54d3",
   "metadata": {},
   "outputs": [],
   "source": [
    "#!pip install nltk supabase"
   ]
  },
  {
   "cell_type": "code",
   "execution_count": 19,
   "id": "3190ce83-d525-4f62-9178-579c2b344242",
   "metadata": {},
   "outputs": [
    {
     "name": "stderr",
     "output_type": "stream",
     "text": [
      "[nltk_data] Downloading package punkt to\n",
      "[nltk_data]     C:\\Users\\abdul\\AppData\\Roaming\\nltk_data...\n",
      "[nltk_data]   Package punkt is already up-to-date!\n",
      "[nltk_data] Downloading package wordnet to\n",
      "[nltk_data]     C:\\Users\\abdul\\AppData\\Roaming\\nltk_data...\n",
      "[nltk_data]   Package wordnet is already up-to-date!\n",
      "[nltk_data] Downloading package stopwords to\n",
      "[nltk_data]     C:\\Users\\abdul\\AppData\\Roaming\\nltk_data...\n",
      "[nltk_data]   Package stopwords is already up-to-date!\n"
     ]
    },
    {
     "data": {
      "text/plain": [
       "True"
      ]
     },
     "execution_count": 19,
     "metadata": {},
     "output_type": "execute_result"
    }
   ],
   "source": [
    "import nltk\n",
    "from nltk.tokenize import word_tokenize\n",
    "from nltk.stem import WordNetLemmatizer\n",
    "from nltk.corpus import stopwords\n",
    "import supabase \n",
    "\n",
    "nltk.download('punkt')\n",
    "nltk.download('wordnet')\n",
    "nltk.download('stopwords')"
   ]
  },
  {
   "cell_type": "code",
   "execution_count": 20,
   "id": "9a814b20-aa45-4860-9366-17d753cfe3fb",
   "metadata": {},
   "outputs": [],
   "source": [
    "from langchain_community.embeddings import OllamaEmbeddings\n",
    "\n",
    "# Load stop words and lemmatizer\n",
    "stop_words = set(stopwords.words('english'))\n",
    "lemmatizer = WordNetLemmatizer()\n",
    "\n",
    "# Load LLM models\n",
    "llama_model = OllamaEmbeddings(model=\"llama3\")\n",
    "mistral_model = OllamaEmbeddings(model=\"mistral\")\n",
    "phi3_model = OllamaEmbeddings(model=\"phi3\")"
   ]
  },
  {
   "cell_type": "code",
   "execution_count": 26,
   "id": "af588823-b03b-4235-a444-f746caee93a9",
   "metadata": {},
   "outputs": [],
   "source": [
    "# Load user story data\n",
    "# Connect to supabase vector store\n",
    "# Proprocess each user story, embed and store in the database"
   ]
  },
  {
   "cell_type": "markdown",
   "id": "91bbfd02-a1e7-4e5c-b853-49821b023d3a",
   "metadata": {},
   "source": [
    "### Load user story data"
   ]
  },
  {
   "cell_type": "code",
   "execution_count": 27,
   "id": "ede1afb1-d432-4824-8e1b-35e12e209d01",
   "metadata": {},
   "outputs": [],
   "source": [
    "with open(FILE_PATH, 'r') as file:\n",
    "    user_stories = file.readlines()"
   ]
  },
  {
   "cell_type": "markdown",
   "id": "cd19d962-ef3c-471d-8e79-f372d3ce1650",
   "metadata": {},
   "source": [
    "### Connect to supabase"
   ]
  },
  {
   "cell_type": "code",
   "execution_count": 11,
   "id": "16029ade-807d-4463-b75c-0133c46b655f",
   "metadata": {},
   "outputs": [],
   "source": [
    "#!pip install python-dotenv"
   ]
  },
  {
   "cell_type": "code",
   "execution_count": 28,
   "id": "7ea1ef17-5737-4834-90aa-aa303d8d67b8",
   "metadata": {},
   "outputs": [],
   "source": [
    "from dotenv import dotenv_values\n",
    "# Load environment variables from .env file\n",
    "env_variables = dotenv_values(\".env\")"
   ]
  },
  {
   "cell_type": "code",
   "execution_count": 29,
   "id": "65424a8d-0102-4c24-86e8-51056334e6ec",
   "metadata": {},
   "outputs": [],
   "source": [
    "import os\n",
    "from supabase import create_client, Client\n",
    "\n",
    "url: str = env_variables.get(\"SUPABASE_URL\")\n",
    "key: str = env_variables.get(\"SUPABASE_KEY\")\n",
    "supabase_client: Client = create_client(url, key)"
   ]
  },
  {
   "cell_type": "markdown",
   "id": "b61e3eb6-7bb0-439a-9d6e-b3ad2215692d",
   "metadata": {},
   "source": [
    "### Creating necessary functions for embedding user stories and storing them in supabase vector store"
   ]
  },
  {
   "cell_type": "code",
   "execution_count": 21,
   "id": "1428f5bb-11e4-4ae0-ad8b-10ea3b58ca2d",
   "metadata": {},
   "outputs": [],
   "source": [
    "def preprocess_story(story):\n",
    "    \n",
    "    \"\"\"\n",
    "    Preprocesses a user story by tokenizing, lemmatizing, and removing stop words.\n",
    "    \"\"\"\n",
    "    tokens = word_tokenize(story.lower().strip())\n",
    "    filtered_tokens = [lemmatizer.lemmatize(token) for token in tokens if token not in stop_words]\n",
    "    return \" \".join(filtered_tokens)\n",
    "\n",
    "def get_embeddings(story):\n",
    "    \"\"\"\n",
    "    Generates embeddings for a user story using LLAMA, Mistral, and Phi-3 models.\n",
    "    \"\"\"\n",
    "    preprocessed_story = preprocess_story(story)\n",
    "    llama_embedding = llama_model.embed_query(preprocessed_story)\n",
    "    mistral_embedding = mistral_model.embed_query(preprocessed_story)\n",
    "    phi3_embedding = phi3_model.embed_query(preprocessed_story)\n",
    "    return {\n",
    "        \"llama_embedding\": llama_embedding,\n",
    "        \"mistral_embedding\": mistral_embedding,\n",
    "        \"phi3_embedding\": phi3_embedding\n",
    "    }\n",
    "\n",
    "def store_data(index, story, embeddings):\n",
    "    \"\"\"\n",
    "    Stores the preprocessed user story and embeddings in a Supabase vector database.\n",
    "    \"\"\"\n",
    "    inserted_data = {\n",
    "        \"user_story_id\": f\"US-{index}\",\n",
    "        \"story\": story,\n",
    "        \"llama_embedding\": embeddings[\"llama_embedding\"],\n",
    "        \"mistral_embedding\": embeddings[\"mistral_embedding\"],\n",
    "        \"phi3_embedding\": embeddings[\"phi3_embedding\"]\n",
    "    }\n",
    "    \n",
    "    # Try and rename the name of table below to the user stories\n",
    "    supabase_client.table(SUPABASE_PROJECT_NAME).insert(inserted_data).execute()"
   ]
  },
  {
   "cell_type": "markdown",
   "id": "314b63d8-a63e-44e0-9281-ef632b71fb56",
   "metadata": {},
   "source": [
    "### Preprocess, embed and store data and respective embeddings in supabase"
   ]
  },
  {
   "cell_type": "code",
   "execution_count": 15,
   "id": "8e2650d3-8300-4084-93e1-59ef9141c039",
   "metadata": {},
   "outputs": [
    {
     "name": "stdout",
     "output_type": "stream",
     "text": [
      "Preprocessed story: ï » ¿as camp administrator want able add camper keep track individual camper 0\n",
      "Done performing embedding 0\n",
      "Done with US-0\n",
      "Preprocessed story: camp administrator want able remove camper n't attend camp anymore keep record organized 1\n",
      "Done performing embedding 1\n",
      "Done with US-1\n",
      "Preprocessed story: camp administrator want able keep camper record previous year amount work need lowered 2\n",
      "Done performing embedding 2\n",
      "Done with US-2\n",
      "Preprocessed story: camp administrator want able upload consent form camper parent easily access form 3\n",
      "Done performing embedding 3\n",
      "Done with US-3\n",
      "Preprocessed story: camp administrator want able keep track camper submitted form legal issue avoided 4\n",
      "Done performing embedding 4\n",
      "Done with US-4\n",
      "Preprocessed story: camp administrator want able schedule activity camper camp worker easily keep track time 5\n",
      "Done performing embedding 5\n",
      "Done with US-5\n",
      "Preprocessed story: camp administrator want able suspend camper behavioral problem 6\n",
      "Done performing embedding 6\n",
      "Done with US-6\n",
      "Preprocessed story: camp administrator want able create group add camper group easily organize camper 7\n",
      "Done performing embedding 7\n",
      "Done with US-7\n",
      "Preprocessed story: camp administrator want able delete camper database keep page free clutter 8\n",
      "Done performing embedding 8\n",
      "Done with US-8\n",
      "Preprocessed story: camp worker want able see camper charge make sure job properly 9\n",
      "Done performing embedding 9\n",
      "Done with US-9\n",
      "Preprocessed story: camp worker 'm able report camper manager inappropriate behavior 10\n",
      "Done performing embedding 10\n",
      "Done with US-10\n",
      "Preprocessed story: camp worker want able see camper charge make sure job properly 11\n",
      "Done performing embedding 11\n",
      "Done with US-11\n",
      "Preprocessed story: camp administrator want able set reminder related specific task done 12\n",
      "Done performing embedding 12\n",
      "Done with US-12\n",
      "Preprocessed story: camp administrator want able assign different position staff member possible organize activity term responsibility 13\n",
      "Done performing embedding 13\n",
      "Done with US-13\n",
      "Preprocessed story: camp administrator want able warn camp worker think job inappropriate 14\n",
      "Done performing embedding 14\n",
      "Done with US-14\n",
      "Preprocessed story: camp administrator want able create modify rule camper camp worker follow 15\n",
      "Done performing embedding 15\n",
      "Done with US-15\n",
      "Preprocessed story: camp administrator want keep track usage internal camp facility n't create conflicting schedule different camp group 16\n",
      "Done performing embedding 16\n",
      "Done with US-16\n",
      "Preprocessed story: camp administrator want store camper ' emergency information database easily notify necessary party case emergency 17\n",
      "Done performing embedding 17\n",
      "Done with US-17\n",
      "Preprocessed story: camp administrator want store camper 's immediate parent guardian 's information easily call notify case grossly unacceptable behavior 18\n",
      "Done performing embedding 18\n",
      "Done with US-18\n",
      "Preprocessed story: camp administrator want able keep information one place admins next year improve previous year 19\n",
      "Done performing embedding 19\n",
      "Done with US-19\n",
      "Preprocessed story: camp administrator want able modify information enrolled camper keep camper information date 20\n",
      "Done performing embedding 20\n",
      "Done with US-20\n",
      "Preprocessed story: camp administrator want able modify information added parent keep parent 's information date 21\n",
      "Done performing embedding 21\n",
      "Done with US-21\n",
      "Preprocessed story: camp administrator want able modify group 's information keep group date 22\n",
      "Done performing embedding 22\n",
      "Done with US-22\n",
      "Preprocessed story: camp administrator want provide bi-weekly feedback camper 's parent aware child 's behavior performance camp 23\n",
      "Done performing embedding 23\n",
      "Done with US-23\n",
      "Preprocessed story: camp administrator want create avenue parent submit feedback general concern keep improving service provide 24\n",
      "Done performing embedding 24\n",
      "Done with US-24\n",
      "Preprocessed story: camp administrator want able make nametags faster n't spend two hour making 200+ nametags 25\n",
      "Done performing embedding 25\n",
      "Done with US-25\n",
      "Preprocessed story: camp administrator want able automatically create nametags camper lower amount work need 26\n",
      "Done performing embedding 26\n",
      "Done with US-26\n",
      "Preprocessed story: camp administrator want able create registration form staff kid keep organized 27\n",
      "Done performing embedding 27\n",
      "Done with US-27\n",
      "Preprocessed story: parent want able connect staff case emergency 28\n",
      "Done performing embedding 28\n",
      "Done with US-28\n",
      "Preprocessed story: camp administrator want able notify parent notified upcoming event 29\n",
      "Done performing embedding 29\n",
      "Done with US-29\n",
      "Preprocessed story: camp administrator want able add parent enroll kid camp 30\n",
      "Done performing embedding 30\n",
      "Done with US-30\n",
      "Preprocessed story: camp administrator want able delete parent database keep page free unneeded clutter 31\n",
      "Done performing embedding 31\n",
      "Done with US-31\n",
      "Preprocessed story: camp administrator want able see camp group event scheduled camp group notify counselor group day 32\n",
      "Done performing embedding 32\n",
      "Done with US-32\n",
      "Preprocessed story: camp administrator want able see event specific group group event calendar easily read data calendar without much clutter 33\n",
      "Done performing embedding 33\n",
      "Done with US-33\n",
      "Preprocessed story: camp administrator want able delete task activity scheduled keep schedule clean unneeded activity 34\n",
      "Done performing embedding 34\n",
      "Done with US-34\n",
      "Preprocessed story: camp administrator want able modify task event scheduled case change always keep schedule date 35\n",
      "Done performing embedding 35\n",
      "Done with US-35\n",
      "Preprocessed story: camp administrator want able schedule task activity specific camp group track group daily weekly monthly activity 36\n",
      "Done performing embedding 36\n",
      "Done with US-36\n",
      "Preprocessed story: camp administrator want able see medical form prepared allergy attack 37\n",
      "Done performing embedding 37\n",
      "Done with US-37\n",
      "Preprocessed story: parent want able see consent form submitted know still need 38\n",
      "Done performing embedding 38\n",
      "Done with US-38\n",
      "Preprocessed story: parent want able submit various type form camp management 39\n",
      "Done performing embedding 39\n",
      "Done with US-39\n",
      "Preprocessed story: parent want able sign submit consent form online n't deal child losing consent form 40\n",
      "Done performing embedding 40\n",
      "Done with US-40\n",
      "Preprocessed story: parent want able create account sign kid camp online 41\n",
      "Done performing embedding 41\n",
      "Done with US-41\n",
      "Preprocessed story: parent want see counselor assigned kid peace mind 42\n",
      "Done performing embedding 42\n",
      "Done with US-42\n",
      "Preprocessed story: parent want able message child 's counselor voice concern check child 's progress 43\n",
      "Done performing embedding 43\n",
      "Done with US-43\n",
      "Preprocessed story: parent want able see made necessary payment 44\n",
      "Done performing embedding 44\n",
      "Done with US-44\n",
      "Preprocessed story: parent want able share photo camp taken child 45\n",
      "Done performing embedding 45\n",
      "Done with US-45\n",
      "Preprocessed story: parent want able track child 's activity schedule camp peace mind 46\n",
      "Done performing embedding 46\n",
      "Done with US-46\n",
      "Preprocessed story: parent want able enroll child admitted camp 47\n",
      "Done performing embedding 47\n",
      "Done with US-47\n",
      "Preprocessed story: parent want able see edit enrolled child camp year know already enrolled camp still pending admission etc 48\n",
      "Done performing embedding 48\n",
      "Done with US-48\n",
      "Preprocessed story: parent want able see schedule activity child involved camp informed camp 49\n",
      "Done performing embedding 49\n",
      "Done with US-49\n",
      "Preprocessed story: camp worker would able submit completion report task assigned 50\n",
      "Done performing embedding 50\n",
      "Done with US-50\n",
      "Preprocessed story: camp worker 'm able report list supply manager camp short 51\n",
      "Done performing embedding 51\n",
      "Done with US-51\n",
      "Preprocessed story: camp worker 'm able report necessary repair manager camp needed 52\n",
      "Done performing embedding 52\n",
      "Done with US-52\n",
      "Preprocessed story: camp administrator want quickly log attendance everyday track kid coming 53\n",
      "Done performing embedding 53\n",
      "Done with US-53\n",
      "Preprocessed story: camp counselor want able take attendance assigned kid make ensure everybody accounted 54\n",
      "Done performing embedding 54\n",
      "Done with US-54\n",
      "Elapsed time: 2330.932540655136 seconds\n"
     ]
    }
   ],
   "source": [
    "import time\n",
    "\n",
    "start_time = time.time()\n",
    "for index, story in enumerate(user_stories):\n",
    "    preprocessed_story = preprocess_story(story)\n",
    "    print(f\"Preprocessed story: {preprocessed_story} {index}\")\n",
    "    embeddings = get_embeddings(preprocessed_story)\n",
    "    print(f\"Done performing embedding {index}\")\n",
    "    store_data(index, preprocessed_story, embeddings)\n",
    "    print(f\"Done with US-{index}\")\n",
    "end_time = time.time()\n",
    "elapsed_time = end_time - start_time\n",
    "\n",
    "print(f\"Elapsed time: {elapsed_time} seconds\")"
   ]
  },
  {
   "cell_type": "markdown",
   "id": "5b6b25c4-b852-43cb-9cc0-d0cbab7f1b11",
   "metadata": {},
   "source": [
    "__The embedding of the 55 user stories and storing in a database took about 39mins__"
   ]
  },
  {
   "cell_type": "markdown",
   "id": "3808472c-7f3a-45ca-9dec-407e632b4cc9",
   "metadata": {},
   "source": [
    "### Preprocess, embed with TFIDF and store in supabase\n",
    "\n",
    "Since, schema has already been created, we do the following:\n",
    "1. Add column `tfidf` to the schema \n",
    "2. preprocess user story\n",
    "3. embed using tfidf\n",
    "4. store tfidf vector in a database"
   ]
  },
  {
   "cell_type": "code",
   "execution_count": 22,
   "id": "adbc3b0e-2b85-442a-9a3d-bb7a39119087",
   "metadata": {},
   "outputs": [],
   "source": [
    "SUPABASE_PROJECT_NAME = \"g12-camperplus\""
   ]
  },
  {
   "cell_type": "code",
   "execution_count": 23,
   "id": "009664dc-0490-412e-a49a-76e6b4e8d07f",
   "metadata": {},
   "outputs": [],
   "source": [
    "FILE_PATH = f\"data/{SUPABASE_PROJECT_NAME}.txt\""
   ]
  },
  {
   "cell_type": "code",
   "execution_count": 44,
   "id": "45927cc3-6a4f-4a54-b6fc-d5e611e245df",
   "metadata": {},
   "outputs": [],
   "source": [
    "from sklearn.feature_extraction.text import TfidfVectorizer\n",
    "\n",
    "def embed_with_tfidf(stories):\n",
    "    \"\"\"\n",
    "    Generate embeddings/vector using TF-IDF\n",
    "    \"\"\"\n",
    "    tfidf_vectorizer = TfidfVectorizer()\n",
    "    tfidf_embeddings = tfidf_vectorizer.fit_transform(stories)\n",
    "    dense_embeddings = tfidf_embeddings.toarray()\n",
    "    return dense_embeddings"
   ]
  },
  {
   "cell_type": "code",
   "execution_count": 45,
   "id": "40158d56-ac75-4431-8713-1e8d28511d8d",
   "metadata": {},
   "outputs": [],
   "source": [
    "with open(FILE_PATH, 'r') as file:\n",
    "    user_stories = file.readlines()"
   ]
  },
  {
   "cell_type": "code",
   "execution_count": 46,
   "id": "b7469bf8-0787-4206-8658-0f517d8b1ed2",
   "metadata": {},
   "outputs": [],
   "source": [
    "import time\n",
    "\n",
    "preprocessed_stories = []\n",
    "for story in user_stories:\n",
    "    preprocessed_stories.append(preprocess_story(story))"
   ]
  },
  {
   "cell_type": "code",
   "execution_count": 47,
   "id": "bea32f60-3b64-48f7-9178-11401c2cec4e",
   "metadata": {},
   "outputs": [],
   "source": [
    "embeddings = embed_with_tfidf(preprocessed_stories)"
   ]
  },
  {
   "cell_type": "code",
   "execution_count": 49,
   "id": "4c664585-232e-4baa-9c20-18345a3ce15d",
   "metadata": {},
   "outputs": [
    {
     "name": "stdout",
     "output_type": "stream",
     "text": [
      "Elapsed time for inserting/updating TFIDF embeddings for the user stories: 10.724145412445068\n"
     ]
    }
   ],
   "source": [
    "import time\n",
    "\n",
    "start_time = time.time()\n",
    "for index, embedding in enumerate(embeddings):\n",
    "    # Update tfidf column in \"g12-camperplus\" table in supabase\n",
    "    supabase_client.table(SUPABASE_PROJECT_NAME).update({\"tfidf\": embedding.tolist()}).eq(\"user_story_id\", f\"US-{index}\").execute()\n",
    "\n",
    "end_time = time.time()\n",
    "elapsed_time = end_time - start_time\n",
    "print(f\"Elapsed time for inserting/updating TFIDF embeddings for the user stories: {elapsed_time}\")"
   ]
  },
  {
   "cell_type": "code",
   "execution_count": null,
   "id": "7be8616f-aed2-437b-8e33-6fa6356b17f7",
   "metadata": {},
   "outputs": [],
   "source": []
  },
  {
   "cell_type": "markdown",
   "id": "a44dfa24-b7e5-4be0-9910-b36396b18d54",
   "metadata": {},
   "source": [
    "## NEXT STEPS AFTER EMBEDDING\n",
    "\n",
    "1. Perform Kmeans on cluster size k ranging from 1 to ceiling(sqrt(55))\n",
    "2. Get SC and CH index for each k\n",
    "3. Plot k vs (SC and CH) for each embedding method"
   ]
  },
  {
   "cell_type": "code",
   "execution_count": null,
   "id": "34bed0d1-8d5b-4d46-819f-4b7514fcc54a",
   "metadata": {},
   "outputs": [],
   "source": []
  },
  {
   "cell_type": "code",
   "execution_count": 94,
   "id": "fd9dadf4-a6c1-40cd-8c51-0f4883272dfa",
   "metadata": {},
   "outputs": [],
   "source": [
    "import supabase\n",
    "import os\n",
    "import pandas as pd\n",
    "from supabase import create_client, Client\n",
    "from dotenv import dotenv_values\n",
    "# Load environment variables from .env file\n",
    "env_variables = dotenv_values(\".env\")\n",
    "\n",
    "# Connect to supbase client\n",
    "url: str = env_variables.get(\"SUPABASE_URL\")\n",
    "key: str = env_variables.get(\"SUPABASE_KEY\")\n",
    "supabase_client = create_client(url, key)\n",
    "\n",
    "FIELDS_TO_SELECT = [\"user_story_id\", \"llama_embedding\", \"phi3_embedding\", \"mistral_embedding\", \"tfidf\"]\n",
    "response = supabase_client.table(SUPABASE_PROJECT_NAME).select(\", \".join(FIELDS_TO_SELECT)).execute()\n",
    "embeddings_data = response.data"
   ]
  },
  {
   "cell_type": "code",
   "execution_count": 95,
   "id": "06de27d0-c2e9-4846-84b3-911940f2dbe5",
   "metadata": {},
   "outputs": [],
   "source": [
    "embeddings_df = pd.DataFrame(embeddings_data)"
   ]
  },
  {
   "cell_type": "code",
   "execution_count": 96,
   "id": "7d039496-bb1e-4647-b7e9-2080394482ad",
   "metadata": {},
   "outputs": [
    {
     "name": "stdout",
     "output_type": "stream",
     "text": [
      "Num of rows: 55\n"
     ]
    }
   ],
   "source": [
    "llama_embeddings = embeddings_df[\"llama_embedding\"]\n",
    "num_rows = len(llama_embeddings)\n",
    "print(f\"Num of rows: {num_rows}\")"
   ]
  },
  {
   "cell_type": "code",
   "execution_count": 97,
   "id": "7d8f1ca3-66f3-426f-8452-7d715424db57",
   "metadata": {},
   "outputs": [],
   "source": [
    "import ast\n",
    "import numpy as np\n",
    "\n",
    "# Convert embeddings data to numpy arrays\n",
    "llama_embeddings = [np.array(ast.literal_eval(emb)) for emb in embeddings_df[\"llama_embedding\"]]\n",
    "phi3_embeddings = [np.array(ast.literal_eval(emb)) for emb in embeddings_df[\"phi3_embedding\"]]\n",
    "mistral_embeddings = [np.array(ast.literal_eval(emb)) for emb in embeddings_df[\"mistral_embedding\"]]\n",
    "tfidf_embeddings = [np.array(ast.literal_eval(emb)) for emb in embeddings_df[\"tfidf\"]]"
   ]
  },
  {
   "cell_type": "code",
   "execution_count": 98,
   "id": "e0df8b8e-00e2-413a-8c9a-27ba815f9485",
   "metadata": {},
   "outputs": [
    {
     "name": "stdout",
     "output_type": "stream",
     "text": [
      "4096 4096\n",
      "3072 3072\n",
      "4096 4096\n",
      "192 192\n"
     ]
    }
   ],
   "source": [
    "print(len(llama_embeddings[0]), len(llama_embeddings[5]))\n",
    "print(len(phi3_embeddings[0]), len(phi3_embeddings[5]))\n",
    "print(len(mistral_embeddings[0]), len(mistral_embeddings[5]))\n",
    "print(len(tfidf_embeddings[0]), len(tfidf_embeddings[5]))"
   ]
  },
  {
   "cell_type": "markdown",
   "id": "7ccd2b8e-69f8-4b0f-8137-0d76bff79fdd",
   "metadata": {},
   "source": [
    "#### Experimenting with time for getting SC and CH scores per embeddings method"
   ]
  },
  {
   "cell_type": "code",
   "execution_count": 61,
   "id": "637ea2cb-fef9-4958-932f-36f227e35474",
   "metadata": {},
   "outputs": [
    {
     "name": "stdout",
     "output_type": "stream",
     "text": [
      "Elapsed time for computing SC and CH index on llama embeddings for a given cluster: 133.75465512275696\n",
      "[0.08167364543815751] [4.261947653247437]\n",
      "Elapsed time for computing SC and CH on phi3 embeddings index for a given cluster: 133.99292063713074\n",
      "[0.0669654556934339] [2.9081653304241217]\n",
      "Elapsed time for computing SC and CH index on phi3 embeddings for a given cluster: 136.2045865058899\n",
      "[0.09293736374672372] [3.691980933687187]\n",
      "Elapsed time for computing SC and CH index on tfidf embeddings for a given cluster: 144.5954737663269\n",
      "[0.04124163891468744] [2.218695941404983]\n"
     ]
    }
   ],
   "source": [
    "import time\n",
    "from sklearn.cluster import KMeans\n",
    "from sklearn.metrics import silhouette_score, calinski_harabasz_score\n",
    "\n",
    "kmeans = KMeans(n_clusters=5, random_state=42, n_init=2000)\n",
    "\n",
    "start_time = time.time()\n",
    "\n",
    "llama_silhouette_scores, llama_calinski_harabasz_scores = [], []\n",
    "clusters_llama = kmeans.fit_predict(llama_embeddings)\n",
    "llama_silhouette_scores.append(silhouette_score(llama_embeddings, clusters_llama))\n",
    "llama_calinski_harabasz_scores.append(calinski_harabasz_score(llama_embeddings, clusters_llama))\n",
    "\n",
    "end_time = time.time()\n",
    "elapsed_time = end_time - start_time\n",
    "print(f\"Elapsed time for computing SC and CH index on llama embeddings for a given cluster: {elapsed_time}\")\n",
    "print(llama_silhouette_scores, llama_calinski_harabasz_scores)\n",
    "\n",
    "start_time = time.time()\n",
    "\n",
    "phi3_silhouette_scores, phi3_calinski_harabasz_scores = [], []\n",
    "clusters_phi3 = kmeans.fit_predict(phi3_embeddings)\n",
    "phi3_silhouette_scores.append(silhouette_score(phi3_embeddings, clusters_phi3))\n",
    "phi3_calinski_harabasz_scores.append(calinski_harabasz_score(phi3_embeddings, clusters_phi3))\n",
    "\n",
    "end_time = time.time()\n",
    "elapsed_time = end_time - start_time\n",
    "print(f\"Elapsed time for computing SC and CH on phi3 embeddings index for a given cluster: {elapsed_time}\")\n",
    "print(phi3_silhouette_scores, phi3_calinski_harabasz_scores )\n",
    "\n",
    "start_time = time.time()\n",
    "\n",
    "mistral_silhouette_scores, mistral_calinski_harabasz_scores = [], []\n",
    "clusters_mistral = kmeans.fit_predict(mistral_embeddings)\n",
    "mistral_silhouette_scores.append(silhouette_score(mistral_embeddings, clusters_mistral))\n",
    "mistral_calinski_harabasz_scores.append(calinski_harabasz_score(mistral_embeddings, clusters_mistral))\n",
    "\n",
    "end_time = time.time()\n",
    "elapsed_time = end_time - start_time\n",
    "print(f\"Elapsed time for computing SC and CH index on phi3 embeddings for a given cluster: {elapsed_time}\")\n",
    "print(mistral_silhouette_scores, mistral_calinski_harabasz_scores)\n",
    "\n",
    "start_time = time.time()\n",
    "\n",
    "tfidf_silhouette_scores, tfidf_calinski_harabasz_scores = [], []\n",
    "clusters_tfidf = kmeans.fit_predict(tfidf_embeddings)\n",
    "tfidf_silhouette_scores.append(silhouette_score(tfidf_embeddings, clusters_tfidf))\n",
    "tfidf_calinski_harabasz_scores.append(calinski_harabasz_score(tfidf_embeddings, clusters_tfidf))\n",
    "\n",
    "end_time = time.time()\n",
    "elapsed_time = end_time - start_time\n",
    "print(f\"Elapsed time for computing SC and CH index on tfidf embeddings for a given cluster: {elapsed_time}\")\n",
    "print(tfidf_silhouette_scores, tfidf_calinski_harabasz_scores)"
   ]
  },
  {
   "cell_type": "markdown",
   "id": "5d9cf78a-f035-4c2f-9ac6-de9ab4c02524",
   "metadata": {},
   "source": [
    "#### Generate SC and CH index for all k-values"
   ]
  },
  {
   "cell_type": "code",
   "execution_count": 99,
   "id": "634b1645-b43d-4960-8431-2c9af353fb26",
   "metadata": {},
   "outputs": [
    {
     "name": "stdout",
     "output_type": "stream",
     "text": [
      "Done with generating SC and CH index for cluster 2\n",
      "Done with generating SC and CH index for cluster 3\n",
      "Done with generating SC and CH index for cluster 4\n",
      "Done with generating SC and CH index for cluster 5\n",
      "Done with generating SC and CH index for cluster 6\n",
      "Done with generating SC and CH index for cluster 7\n",
      "Done with generating SC and CH index for cluster 8\n",
      "Done with generating SC and CH index for cluster 9\n",
      "Done with generating SC and CH index for cluster 10\n",
      "Done with generating SC and CH index for cluster 11\n",
      "Done with generating SC and CH index for cluster 12\n",
      "Done with generating SC and CH index for cluster 13\n",
      "Done with generating SC and CH index for cluster 14\n",
      "Done with generating SC and CH index for cluster 15\n",
      "Done with generating SC and CH index for cluster 16\n",
      "Done with generating SC and CH index for cluster 17\n",
      "Done with generating SC and CH index for cluster 18\n",
      "Done with generating SC and CH index for cluster 19\n",
      "Done with generating SC and CH index for cluster 20\n",
      "Done with generating SC and CH index for cluster 21\n",
      "Done with generating SC and CH index for cluster 22\n",
      "Done with generating SC and CH index for cluster 23\n",
      "Done with generating SC and CH index for cluster 24\n",
      "Done with generating SC and CH index for cluster 25\n",
      "Done with generating SC and CH index for cluster 26\n",
      "Done with generating SC and CH index for cluster 27\n",
      "Elapsed time: 21749.239391565323 seconds\n"
     ]
    }
   ],
   "source": [
    "import numpy as np\n",
    "from sklearn.cluster import KMeans\n",
    "from sklearn.metrics import silhouette_score, calinski_harabasz_score\n",
    "import math\n",
    "\n",
    "# Define range of k values (2 to ceiling of half of the num of rows)\n",
    "k_values = range(2, (num_rows // 2) + 1)\n",
    "\n",
    "# Initialize lists to store evaluation metrics for each embedding\n",
    "llama_silhouette_scores = []\n",
    "llama_calinski_harabasz_scores = []\n",
    "phi3_silhouette_scores = []\n",
    "phi3_calinski_harabasz_scores = []\n",
    "mistral_silhouette_scores = []\n",
    "mistral_calinski_harabasz_scores = []\n",
    "tfidf_silhouette_scores = []\n",
    "tfidf_calinski_harabasz_scores = []\n",
    "\n",
    "# Perform K-means clustering for each embedding and compute evaluation metrics\n",
    "import time\n",
    "\n",
    "start_time = time.time()\n",
    "for k in k_values:\n",
    "    # K-means clustering for llama embeddings\n",
    "    kmeans = KMeans(n_clusters=k, random_state=42, n_init=2000)\n",
    "    clusters_llama = kmeans.fit_predict(llama_embeddings)\n",
    "    llama_silhouette_scores.append(silhouette_score(llama_embeddings, clusters_llama))\n",
    "    llama_calinski_harabasz_scores.append(calinski_harabasz_score(llama_embeddings, clusters_llama))\n",
    "\n",
    "    # K-means clustering for phi3 embeddings\n",
    "    clusters_phi3 = kmeans.fit_predict(phi3_embeddings)\n",
    "    phi3_silhouette_scores.append(silhouette_score(phi3_embeddings, clusters_phi3))\n",
    "    phi3_calinski_harabasz_scores.append(calinski_harabasz_score(phi3_embeddings, clusters_phi3))\n",
    "\n",
    "    # K-means clustering for mistral embeddings\n",
    "    clusters_mistral = kmeans.fit_predict(mistral_embeddings)\n",
    "    mistral_silhouette_scores.append(silhouette_score(mistral_embeddings, clusters_mistral))\n",
    "    mistral_calinski_harabasz_scores.append(calinski_harabasz_score(mistral_embeddings, clusters_mistral))\n",
    "\n",
    "    # K-means clustering for tfidf embeddings\n",
    "    clusters_tfidf = kmeans.fit_predict(tfidf_embeddings)\n",
    "    tfidf_silhouette_scores.append(silhouette_score(tfidf_embeddings, clusters_tfidf))\n",
    "    tfidf_calinski_harabasz_scores.append(calinski_harabasz_score(tfidf_embeddings, clusters_tfidf))\n",
    "\n",
    "    print(f\"Done with generating SC and CH index for cluster {k}\")\n",
    "\n",
    "end_time = time.time()\n",
    "elapsed_time = end_time - start_time\n",
    "print(f\"Elapsed time: {elapsed_time} seconds\")"
   ]
  },
  {
   "cell_type": "markdown",
   "id": "6c9646fd-ed22-444b-8524-6b00b01014e3",
   "metadata": {},
   "source": [
    "#### Save SC and CH scores into file"
   ]
  },
  {
   "cell_type": "code",
   "execution_count": 103,
   "id": "0205d8c4-8a8a-4dee-9df4-5bbcb8f1b448",
   "metadata": {},
   "outputs": [],
   "source": [
    "SCORE_FILE = \"sc_ch_scores_1.txt\"\n",
    "SCORE_PAIR = {\n",
    "    \"llama\": [llama_silhouette_scores, llama_calinski_harabasz_scores],\n",
    "    \"phi3\": [phi3_silhouette_scores, phi3_calinski_harabasz_scores],\n",
    "    \"mistral\": [mistral_silhouette_scores, mistral_calinski_harabasz_scores],\n",
    "    \"tfidf\": [tfidf_silhouette_scores, tfidf_calinski_harabasz_scores]\n",
    "}"
   ]
  },
  {
   "cell_type": "code",
   "execution_count": 104,
   "id": "c5afca5b-bb07-4d16-91a4-d6728ee3ce4e",
   "metadata": {},
   "outputs": [],
   "source": [
    "with open(SCORE_FILE, \"a\") as file:\n",
    "    file.write(f\"METRICS SCORE FOR CLUSTERS: {', '.join(map(str, list(k_values)))}\\n\")\n",
    "    file.write(\"====================================================================================\\n\")\n",
    "\n",
    "for key, value in SCORE_PAIR.items():\n",
    "\n",
    "    with open(SCORE_FILE, \"a\") as file:\n",
    "        file.write(f\"{key}_silhouette_score: {', '.join(map(str, value[0]))}\\n\")\n",
    "        file.write(f\"{key}_calinski_harabasz_score: {', '.join(map(str, value[1]))}\\n\")\n",
    "        \n",
    "with open(SCORE_FILE, \"a\") as file:\n",
    "    file.write(\"====================================================================================\\n\\n\")"
   ]
  },
  {
   "cell_type": "markdown",
   "id": "2ed1926a-4e73-42ca-a7f6-cd08d2cb53f8",
   "metadata": {},
   "source": [
    "### Plotting SC and CH scores vs cluster size"
   ]
  },
  {
   "cell_type": "code",
   "execution_count": 105,
   "id": "3d0e876e-0923-4de0-b87f-68091a428d39",
   "metadata": {},
   "outputs": [
    {
     "data": {
      "image/png": "[encoded data removed]",
      "text/plain": [
       "<Figure size 1000x600 with 2 Axes>"
      ]
     },
     "metadata": {},
     "output_type": "display_data"
    }
   ],
   "source": [
    "import matplotlib.pyplot as plt\n",
    "\n",
    "# Plot k versus the evaluation metrics for each embedding\n",
    "plt.figure(figsize=(10, 6))\n",
    "\n",
    "# Plot Silhouette Coefficient\n",
    "plt.subplot(2, 1, 1)\n",
    "plt.plot(k_values, llama_silhouette_scores, label='Llama Embedding')\n",
    "plt.plot(k_values, phi3_silhouette_scores, label='Phi3 Embedding')\n",
    "plt.plot(k_values, mistral_silhouette_scores, label='Mistral Embedding')\n",
    "plt.plot(k_values, tfidf_silhouette_scores, label='TF-IDF Embedding')\n",
    "plt.xlabel('Number of clusters (k)')\n",
    "plt.ylabel('Silhouette Coefficient')\n",
    "plt.title('Silhouette Coefficient vs. Number of Clusters')\n",
    "plt.legend()\n",
    "\n",
    "# Plot Calinski-Harabasz Index\n",
    "plt.subplot(2, 1, 2)\n",
    "plt.plot(k_values, llama_calinski_harabasz_scores, label='Llama Embedding')\n",
    "plt.plot(k_values, phi3_calinski_harabasz_scores, label='Phi3 Embedding')\n",
    "plt.plot(k_values, mistral_calinski_harabasz_scores, label='Mistral Embedding')\n",
    "plt.plot(k_values, tfidf_calinski_harabasz_scores, label='TF-IDF Embedding')\n",
    "plt.xlabel('Number of clusters (k)')\n",
    "plt.ylabel('Calinski-Harabasz Index')\n",
    "plt.title('Calinski-Harabasz Index vs. Number of Clusters')\n",
    "plt.legend()\n",
    "\n",
    "plt.tight_layout()\n",
    "plt.show()\n"
   ]
  },
  {
   "cell_type": "markdown",
   "id": "428a99e2-bb72-4c49-8401-2b527b79124c",
   "metadata": {},
   "source": [
    "#### Investigating the clusters"
   ]
  },
  {
   "cell_type": "code",
   "execution_count": 106,
   "id": "895dbb00-a2f0-460d-91d2-d204de6c40f4",
   "metadata": {},
   "outputs": [
    {
     "name": "stdout",
     "output_type": "stream",
     "text": [
      "Cluster size with max silhouette score for mistral embeddings: 7\n"
     ]
    }
   ],
   "source": [
    "max_silhouette_score = max(mistral_silhouette_scores)\n",
    "index_of_the_cluster = mistral_silhouette_scores.index(max_silhouette_score)\n",
    "cluster_size_with_max_silhooette_score = list(k_values)[index_of_the_cluster]\n",
    "print(f\"Cluster size with max silhouette score for mistral embeddings: {cluster_size_with_max_silhooette_score}\")"
   ]
  },
  {
   "cell_type": "markdown",
   "id": "48e063d0-65de-4e63-a69f-3e4ae1c03e8f",
   "metadata": {},
   "source": [
    "#### Investigate user stories in each cluster for k = 7 using mistral embeddings"
   ]
  },
  {
   "cell_type": "code",
   "execution_count": 108,
   "id": "8e9229ab-f60c-4a2c-ac09-b07861cd94a7",
   "metadata": {},
   "outputs": [],
   "source": [
    "user_story_ids = embeddings_df[\"user_story_id\"]"
   ]
  },
  {
   "cell_type": "code",
   "execution_count": 110,
   "id": "6313bd3c-13a9-4209-8483-e5e2c1c9672c",
   "metadata": {},
   "outputs": [
    {
     "data": {
      "text/plain": [
       "6"
      ]
     },
     "execution_count": 110,
     "metadata": {},
     "output_type": "execute_result"
    }
   ],
   "source": [
    "user_id = \"US-6\"\n",
    "num = int(user_id.split(\"-\")[1])\n",
    "num"
   ]
  },
  {
   "cell_type": "code",
   "execution_count": 112,
   "id": "20c8753c-0fcc-4d82-960f-fbe63904d177",
   "metadata": {},
   "outputs": [
    {
     "name": "stdout",
     "output_type": "stream",
     "text": [
      "Cluster 0:\n",
      "As a camp administrator I want to be able to suspend a camper who had behavioral problems \n",
      "\n",
      "As a camp administrator I want to store campers' emergency information in a database  so that I can easily notify the necessary parties in case of an emergency \n",
      "\n",
      "As a camp administrator I want to be able to create a registration form for both staff and kids  so that I can keep organized \n",
      "\n",
      "As a camp administrator I want to be able to see only events for a specific group groups on the event calendar  so that I can easily read the data on the calendar without too much clutter \n",
      "\n",
      "As a camp administrator I want to be able to see medical forms  so that we can be prepared for an allergy attack\n",
      "\n",
      "As a camp worker I would be able to submit a completion report for the tasks which was assigned to me \n",
      "\n",
      "As a camp counselor I want to be able to take attendance of my assigned kids  so that I can make ensure everybody is accounted for \n",
      "\n",
      "As a camp administrator I want to be able to remove campers if they don't attend the camp anymore  so that I can keep the records organized \n",
      "\n",
      "As a camp administrator I want to be able to upload consent forms  so that campers or their parents can easily access the forms \n",
      "\n",
      "As a camp administrator I want to store camper's immediate parent guardian's information  so that I can easily call to notify them in case a grossly unacceptable behavior \n",
      "\n",
      "As a parent I want to be able to see which consent forms I have submitted  so that I can know what I still need to do \n",
      "\n",
      "As a camp administrator I want to be able to keep camper records from previous years  so that the amount of work I need to do is lowered  \n",
      "\n",
      "As a camp administrator I want to be able to keep track of which camper submitted which forms  so that legal issues are avoided \n",
      "\n",
      "As a camp administrator I want to be able to delete campers from the database  so that I can keep my pages free of clutter \n",
      "\n",
      "As a camp worker I'm able to report a camper to the manager with an inappropriate behavior \n",
      "\n",
      "As a camp administrator I want to be able to set a reminders related to specific tasks that has to be done \n",
      "\n",
      "As a camp administrator I want to be able to assign different positions to the staff members  so that it is possible to organize activities in terms of responsibilities \n",
      "\n",
      "As a camp administrator I want to be able to warn a camp worker who I think did his her job inappropriate \n",
      "\n",
      "As a camp administrator I want to keep track of the usage of internal camp facilities  so that I don't create conflicting schedules for the different camp groups \n",
      "\n",
      "As a camp administrator I want to be able to keep my information in one place  so that the admins next year can improve on the previous years \n",
      "\n",
      "As a camp administrator I want to create an avenue so parents can submit feedback and general concerns  so that I can keep improving the services I provide \n",
      "\n",
      "As a camp administrator I want to be able to make nametags faster  so that I don't have to spend two hours making 200+ nametags\n",
      "\n",
      "As a camp administrator I want to be able to automatically create nametags for campers  so that I can lower the amount of work I need to do \n",
      "\n",
      "As a parent I want to be able to connect with the staff in case of an emergency \n",
      "\n",
      "As a camp administrator I want to be able to notify parents all at once  so that they can be notified of any upcoming events \n",
      "\n",
      "As a camp administrator I want to be able to delete parents from the database  so that I can keep my pages free of unneeded clutter \n",
      "\n",
      "As a camp administrator I want to be able to delete tasks activities I scheduled  so that I can keep the schedule clean of unneeded activities \n",
      "\n",
      "As a parent I want to be able to submit various type of forms to the camp management \n",
      "\n",
      "As a parent I want to be able to sign and submit consent forms online  so that I don't have to deal with my child losing a consent form \n",
      "\n",
      "As a parent I want to be able to create an account  so that I can sign up my kids for camp online \n",
      "\n",
      "As a parent I want to be able to message my child's counselors  so that I can voice my concerns or check on my child's progress \n",
      "\n",
      "As a parent I want to be able to see if I made all the necessary payments \n",
      "\n",
      "As a parent I want to be able to see and edit my enrolled children to the camp year  so that I can know who I already enrolled to camp  who is still pending admission etc \n",
      "\n",
      "As a camp worker I'm able to report necessary repairs to the manager that the camp is needed of \n",
      "\n",
      "\n",
      "Cluster 1:\n",
      "ï»¿As a camp administrator I want to be able to add campers  so that I can keep track of each individual camper\n",
      "\n",
      "As a camp administrator I want to be able to schedule activities for campers  so that camp workers can easily keep track of who is where at all times \n",
      "\n",
      "As a camp administrator I want to be able to create groups and add campers to the groups  so that I can easily organize the campers \n",
      "\n",
      "As a camp administrator I want to be able to schedule tasks activities for a specific camp group  so that I can track each groups daily weekly and monthly activities \n",
      "\n",
      "As a camp administrator I want to be quickly log attendance everyday  so that I can track which kids are coming in \n",
      "\n",
      "\n",
      "Cluster 2:\n",
      "As a camp administrator I want to be able to modify a group's information  so that I can keep the groups up to date \n",
      "\n",
      "As a camp administrator I want to be able to modify the information of enrolled campers  so that I can keep the campers information up to date \n",
      "\n",
      "As a camp administrator I want to be able to modify the information of added parents  so that I can keep parent's information up to date \n",
      "\n",
      "As a camp administrator I want to be able to modify tasks events I scheduled in case there is a change  so that I can always keep the schedule up to date \n",
      "\n",
      "\n",
      "Cluster 3:\n",
      "As a camp administrator I want to provide bi-weekly feedback to camper's parents  so that they can be aware of their child's behavior and performance at camp \n",
      "\n",
      "As a camp administrator I want to be able to add parents  so that they can enroll their kids at camp \n",
      "\n",
      "As a parent I want to be able to enroll my children  so that they can be admitted to camp \n",
      "\n",
      "As a parent I want to be able to see a schedule of the activities my children are involved in at camp  so that I can be more informed as to what they are doing at camp \n",
      "\n",
      "\n",
      "Cluster 4:\n",
      "As a camp administrator I want to be able to create  modify rules that campers and camp workers has to follow \n",
      "\n",
      "As a camp administrator I want to be able to see all my camp groups and the events scheduled for each camp group  so that I can notify counselor of what their group will be doing for the day \n",
      "\n",
      "As a camp worker I'm able to report a list of supplies to the manager that the camp is short of \n",
      "\n",
      "\n",
      "Cluster 5:\n",
      "As a parent I want to be able to share any photos the camp has taken of my child \n",
      "\n",
      "As a parent I want to see which counselors are assigned to my kids  so that I can have peace of mind \n",
      "\n",
      "As a parent I want to be able to track my child's activity and schedule at camp  so that I can have peace of mind \n",
      "\n",
      "\n",
      "Cluster 6:\n",
      "As a camp worker I want to be able to see which campers I am in charge of and where  so that I can make sure I am doing my job properly \n",
      "\n",
      "As a camp worker I want to be able to see which campers I am in charge of and where  so that I can make sure I am doing my job properly \n",
      "\n",
      "\n"
     ]
    }
   ],
   "source": [
    "from sklearn.cluster import KMeans\n",
    "\n",
    "mistral_embeddings = [np.array(ast.literal_eval(emb)) for emb in embeddings_df[\"mistral_embedding\"]]\n",
    "user_story_ids = embeddings_df[\"user_story_id\"]\n",
    "\n",
    "with open(FILE_PATH, 'r') as file:\n",
    "    user_stories = file.readlines()\n",
    "\n",
    "# Initialize KMeans with the desired number of clusters\n",
    "kmeans = KMeans(n_clusters=7, random_state=42, n_init=2000)\n",
    "kmeans.fit(mistral_embeddings)\n",
    "\n",
    "# Get cluster assignments for each user story\n",
    "user_story_clusters = kmeans.labels_\n",
    "\n",
    "# Create a dictionary to store user stories for each cluster\n",
    "clusters = {i: [] for i in range(7)}\n",
    "\n",
    "# Group user stories by their cluster assignments\n",
    "for user_story_id, cluster in zip(user_story_ids, user_story_clusters):\n",
    "    num = int(user_story_id.split(\"-\")[1])\n",
    "    # num represents the index of story in the file(This is done in order to account for unordering of user_story_id in database)\n",
    "    clusters[cluster].append(num)\n",
    "\n",
    "# Print user stories in each cluster\n",
    "for cluster, user_story_ids in clusters.items():\n",
    "    print(f\"Cluster {cluster}:\")\n",
    "    for user_story_id in user_story_ids:\n",
    "        print(user_stories[user_story_id])\n",
    "    print()"
   ]
  },
  {
   "cell_type": "code",
   "execution_count": 113,
   "id": "df69932b-a94a-4868-975c-0fd33b5f6790",
   "metadata": {},
   "outputs": [
    {
     "data": {
      "text/plain": [
       "array([0, 6, 0, 2, 0, 0, 0, 0, 0, 0, 0, 6, 0, 0, 5, 1, 0, 0, 1, 1, 0, 0,\n",
       "       0, 0, 0, 4, 0, 0, 2, 2, 3, 0, 0, 0, 0, 0, 3, 0, 4, 0, 2, 1, 0, 0,\n",
       "       0, 5, 0, 0, 5, 3, 0, 3, 4, 0, 1])"
      ]
     },
     "execution_count": 113,
     "metadata": {},
     "output_type": "execute_result"
    }
   ],
   "source": [
    "user_story_clusters"
   ]
  },
  {
   "cell_type": "code",
   "execution_count": null,
   "id": "6c4e0a9f-eaf3-49db-a0e2-db97f09ad3f2",
   "metadata": {},
   "outputs": [],
   "source": []
  }
 ],
 "metadata": {
  "kernelspec": {
   "display_name": "Python 3 (ipykernel)",
   "language": "python",
   "name": "python3"
  },
  "language_info": {
   "codemirror_mode": {
    "name": "ipython",
    "version": 3
   },
   "file_extension": ".py",
   "mimetype": "text/x-python",
   "name": "python",
   "nbconvert_exporter": "python",
   "pygments_lexer": "ipython3",
   "version": "3.11.7"
  }
 },
 "nbformat": 4,
 "nbformat_minor": 5
}
