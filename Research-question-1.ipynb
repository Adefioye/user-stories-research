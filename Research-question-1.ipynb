{
 "cells": [
  {
   "cell_type": "markdown",
   "id": "d4909bef-af3b-4011-8019-1764223ad4db",
   "metadata": {},
   "source": [
    "# Research question 1\n",
    "\n",
    "- Embed each user story in user story dataset(persist in a datastore to avoid recomputation to avoid cost for commercial llm embedders)\n",
    "- Cluster to get optimal k\n",
    "\n",
    "__Questions I am wrestling with__\n",
    "- How to get optimal cluster size k for each `user stories dataset`.\n",
    "- How to embed the user stories with several embedding models.\n",
    "\n",
    "__Methodology__\n",
    "1. Dataset to be used is `data/g12-camperplus.txt`(__55 user stories__).\n",
    "2. Preprocess by doing tokenization, lemmatization and removing stop words\n",
    "3. Embed using any LLM embedding store in a vector database\n",
    "4. Use K-means algorithm(by varying cluster between 2 and square root of n)\n",
    "5. Evaluate using SC an CH index"
   ]
  },
  {
   "cell_type": "markdown",
   "id": "6fbb9f07-9866-4e25-aee0-a3a8e961d5a9",
   "metadata": {},
   "source": [
    "#### Check number of user stories"
   ]
  },
  {
   "cell_type": "code",
   "execution_count": 4,
   "id": "b13ac743-24ec-41b4-8f12-c4f6e1fc11c8",
   "metadata": {},
   "outputs": [],
   "source": [
    "FILE_PATH = \"data/g12-camperplus.txt\""
   ]
  },
  {
   "cell_type": "code",
   "execution_count": 5,
   "id": "6eefb0f0-9eca-48bb-83f8-7bba26a279b6",
   "metadata": {},
   "outputs": [
    {
     "name": "stdout",
     "output_type": "stream",
     "text": [
      "There are 55 stories in a data/g12-camperplus.txt\n"
     ]
    }
   ],
   "source": [
    "number_of_user_stories = 0\n",
    "with open(FILE_PATH) as file:\n",
    "    for line in file:\n",
    "        number_of_user_stories += 1\n",
    "\n",
    "print(f\"There are {number_of_user_stories} stories in a {FILE_PATH}\")"
   ]
  },
  {
   "cell_type": "code",
   "execution_count": 6,
   "id": "3fd63d70-c67d-4134-adcc-52bed0e7ea98",
   "metadata": {},
   "outputs": [
    {
     "name": "stdout",
     "output_type": "stream",
     "text": [
      "['ï»¿As a camp administrator I want to be able to add campers  so that I can keep track of each individual camper\\n', \"As a camp administrator I want to be able to remove campers if they don't attend the camp anymore  so that I can keep the records organized \\n\", 'As a camp administrator I want to be able to keep camper records from previous years  so that the amount of work I need to do is lowered  \\n', 'As a camp administrator I want to be able to upload consent forms  so that campers or their parents can easily access the forms \\n', 'As a camp administrator I want to be able to keep track of which camper submitted which forms  so that legal issues are avoided \\n', 'As a camp administrator I want to be able to schedule activities for campers  so that camp workers can easily keep track of who is where at all times \\n', 'As a camp administrator I want to be able to suspend a camper who had behavioral problems \\n', 'As a camp administrator I want to be able to create groups and add campers to the groups  so that I can easily organize the campers \\n', 'As a camp administrator I want to be able to delete campers from the database  so that I can keep my pages free of clutter \\n', 'As a camp worker I want to be able to see which campers I am in charge of and where  so that I can make sure I am doing my job properly \\n', \"As a camp worker I'm able to report a camper to the manager with an inappropriate behavior \\n\", 'As a camp worker I want to be able to see which campers I am in charge of and where  so that I can make sure I am doing my job properly \\n', 'As a camp administrator I want to be able to set a reminders related to specific tasks that has to be done \\n', 'As a camp administrator I want to be able to assign different positions to the staff members  so that it is possible to organize activities in terms of responsibilities \\n', 'As a camp administrator I want to be able to warn a camp worker who I think did his her job inappropriate \\n', 'As a camp administrator I want to be able to create  modify rules that campers and camp workers has to follow \\n', \"As a camp administrator I want to keep track of the usage of internal camp facilities  so that I don't create conflicting schedules for the different camp groups \\n\", \"As a camp administrator I want to store campers' emergency information in a database  so that I can easily notify the necessary parties in case of an emergency \\n\", \"As a camp administrator I want to store camper's immediate parent guardian's information  so that I can easily call to notify them in case a grossly unacceptable behavior \\n\", 'As a camp administrator I want to be able to keep my information in one place  so that the admins next year can improve on the previous years \\n', 'As a camp administrator I want to be able to modify the information of enrolled campers  so that I can keep the campers information up to date \\n', \"As a camp administrator I want to be able to modify the information of added parents  so that I can keep parent's information up to date \\n\", \"As a camp administrator I want to be able to modify a group's information  so that I can keep the groups up to date \\n\", \"As a camp administrator I want to provide bi-weekly feedback to camper's parents  so that they can be aware of their child's behavior and performance at camp \\n\", 'As a camp administrator I want to create an avenue so parents can submit feedback and general concerns  so that I can keep improving the services I provide \\n', \"As a camp administrator I want to be able to make nametags faster  so that I don't have to spend two hours making 200+ nametags\\n\", 'As a camp administrator I want to be able to automatically create nametags for campers  so that I can lower the amount of work I need to do \\n', 'As a camp administrator I want to be able to create a registration form for both staff and kids  so that I can keep organized \\n', 'As a parent I want to be able to connect with the staff in case of an emergency \\n', 'As a camp administrator I want to be able to notify parents all at once  so that they can be notified of any upcoming events \\n', 'As a camp administrator I want to be able to add parents  so that they can enroll their kids at camp \\n', 'As a camp administrator I want to be able to delete parents from the database  so that I can keep my pages free of unneeded clutter \\n', 'As a camp administrator I want to be able to see all my camp groups and the events scheduled for each camp group  so that I can notify counselor of what their group will be doing for the day \\n', 'As a camp administrator I want to be able to see only events for a specific group groups on the event calendar  so that I can easily read the data on the calendar without too much clutter \\n', 'As a camp administrator I want to be able to delete tasks activities I scheduled  so that I can keep the schedule clean of unneeded activities \\n', 'As a camp administrator I want to be able to modify tasks events I scheduled in case there is a change  so that I can always keep the schedule up to date \\n', 'As a camp administrator I want to be able to schedule tasks activities for a specific camp group  so that I can track each groups daily weekly and monthly activities \\n', 'As a camp administrator I want to be able to see medical forms  so that we can be prepared for an allergy attack\\n', 'As a parent I want to be able to see which consent forms I have submitted  so that I can know what I still need to do \\n', 'As a parent I want to be able to submit various type of forms to the camp management \\n', \"As a parent I want to be able to sign and submit consent forms online  so that I don't have to deal with my child losing a consent form \\n\", 'As a parent I want to be able to create an account  so that I can sign up my kids for camp online \\n', 'As a parent I want to see which counselors are assigned to my kids  so that I can have peace of mind \\n', \"As a parent I want to be able to message my child's counselors  so that I can voice my concerns or check on my child's progress \\n\", 'As a parent I want to be able to see if I made all the necessary payments \\n', 'As a parent I want to be able to share any photos the camp has taken of my child \\n', \"As a parent I want to be able to track my child's activity and schedule at camp  so that I can have peace of mind \\n\", 'As a parent I want to be able to enroll my children  so that they can be admitted to camp \\n', 'As a parent I want to be able to see and edit my enrolled children to the camp year  so that I can know who I already enrolled to camp  who is still pending admission etc \\n', 'As a parent I want to be able to see a schedule of the activities my children are involved in at camp  so that I can be more informed as to what they are doing at camp \\n', 'As a camp worker I would be able to submit a completion report for the tasks which was assigned to me \\n', \"As a camp worker I'm able to report a list of supplies to the manager that the camp is short of \\n\", \"As a camp worker I'm able to report necessary repairs to the manager that the camp is needed of \\n\", 'As a camp administrator I want to be quickly log attendance everyday  so that I can track which kids are coming in \\n', 'As a camp counselor I want to be able to take attendance of my assigned kids  so that I can make ensure everybody is accounted for \\n']\n"
     ]
    }
   ],
   "source": [
    "# Print out the user stories\n",
    "with open(FILE_PATH) as file:\n",
    "    user_stories = file.readlines()\n"
   ]
  },
  {
   "cell_type": "code",
   "execution_count": null,
   "id": "928097d9-8569-44b0-b137-95ac91a44fcc",
   "metadata": {},
   "outputs": [],
   "source": []
  }
 ],
 "metadata": {
  "kernelspec": {
   "display_name": "Python 3 (ipykernel)",
   "language": "python",
   "name": "python3"
  },
  "language_info": {
   "codemirror_mode": {
    "name": "ipython",
    "version": 3
   },
   "file_extension": ".py",
   "mimetype": "text/x-python",
   "name": "python",
   "nbconvert_exporter": "python",
   "pygments_lexer": "ipython3",
   "version": "3.11.7"
  }
 },
 "nbformat": 4,
 "nbformat_minor": 5
}
